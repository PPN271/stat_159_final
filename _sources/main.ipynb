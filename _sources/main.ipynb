{
 "cells": [
  {
   "cell_type": "markdown",
   "id": "d1eecd47-ab43-49c9-b2c2-635cf9269120",
   "metadata": {
    "user_expressions": []
   },
   "source": [
    "# Main page"
   ]
  },
  {
   "cell_type": "code",
   "execution_count": null,
   "id": "11b2d5db-dfe4-4487-af65-c8477781c807",
   "metadata": {},
   "outputs": [],
   "source": []
  }
 ],
 "metadata": {
  "kernelspec": {
   "display_name": "Python 3 (ipykernel)",
   "language": "python",
   "name": "python3"
  },
  "language_info": {
   "codemirror_mode": {
    "name": "ipython",
    "version": 3
   },
   "file_extension": ".py",
   "mimetype": "text/x-python",
   "name": "python",
   "nbconvert_exporter": "python",
   "pygments_lexer": "ipython3",
   "version": "3.10.8"
  }
 },
 "nbformat": 4,
 "nbformat_minor": 5
}
